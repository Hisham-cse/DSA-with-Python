{
 "cells": [
  {
   "cell_type": "code",
   "execution_count": 1,
   "metadata": {},
   "outputs": [
    {
     "name": "stdout",
     "output_type": "stream",
     "text": [
      "The average is 7.5\n"
     ]
    }
   ],
   "source": [
    "def avg(a=5,b=10):\n",
    "    print(\"The average is\",(a+b)/2)\n",
    "avg()\n",
    "\n"
   ]
  },
  {
   "cell_type": "code",
   "execution_count": 2,
   "metadata": {},
   "outputs": [
    {
     "name": "stdout",
     "output_type": "stream",
     "text": [
      "The average is 15.0\n"
     ]
    }
   ],
   "source": [
    "def avg(a=5,b=10):#ignore\n",
    "    print(\"The average is\",(a+b)/2)\n",
    "avg(20,10)#this will run"
   ]
  },
  {
   "cell_type": "code",
   "execution_count": 3,
   "metadata": {},
   "outputs": [
    {
     "name": "stdout",
     "output_type": "stream",
     "text": [
      "The average is 5.0\n"
     ]
    }
   ],
   "source": [
    "def avg(a=5,b=10):#ignore\n",
    "    print(\"The average is\",(a+b)/2)\n",
    "avg(b=5)#this will run"
   ]
  },
  {
   "cell_type": "code",
   "execution_count": 11,
   "metadata": {},
   "outputs": [
    {
     "name": "stdout",
     "output_type": "stream",
     "text": [
      "Average is 705.1428571428571\n",
      "<class 'tuple'>\n",
      "(5, 6, 4, 6, 7, 4450, 458)\n"
     ]
    }
   ],
   "source": [
    "#  *numbers means it is passed as a tuple\n",
    "# \n",
    "def avg(*numbers):\n",
    "    sum=0\n",
    "    for i in numbers:\n",
    "        sum=sum+i\n",
    "    print(\"Average is\",sum/len(numbers))\n",
    "    print(type(numbers))\n",
    "    print(numbers)\n",
    "avg(5,6,4,6,7,4450,458)\n",
    "\n"
   ]
  },
  {
   "cell_type": "code",
   "execution_count": 16,
   "metadata": {},
   "outputs": [
    {
     "name": "stdout",
     "output_type": "stream",
     "text": [
      "<class 'dict'>\n",
      "HELLO James Buchanan Barnes\n"
     ]
    }
   ],
   "source": [
    "def name(**name):\n",
    "    print(type(name))\n",
    "    print(\"HELLO\",name[\"fname\"],name[\"mname\"],name[\"lname\"])\n",
    "name(mname = \"Buchanan\", lname = \"Barnes\",\n",
    "fname = \"James\")"
   ]
  },
  {
   "cell_type": "code",
   "execution_count": 17,
   "metadata": {},
   "outputs": [
    {
     "name": "stdout",
     "output_type": "stream",
     "text": [
      "('Average is', 705.1428571428571)\n"
     ]
    },
    {
     "ename": "",
     "evalue": "",
     "output_type": "error",
     "traceback": [
      "\u001b[1;31mThe Kernel crashed while executing code in the current cell or a previous cell. \n",
      "\u001b[1;31mPlease review the code in the cell(s) to identify a possible cause of the failure. \n",
      "\u001b[1;31mClick <a href='https://aka.ms/vscodeJupyterKernelCrash'>here</a> for more info. \n",
      "\u001b[1;31mView Jupyter <a href='command:jupyter.viewOutput'>log</a> for further details."
     ]
    }
   ],
   "source": [
    "def avg(*numbers):\n",
    "    sum=0\n",
    "    for i in numbers:\n",
    "        sum=sum+i\n",
    "    return \"Average is\",sum/len(numbers)\n",
    "   \n",
    "a = avg(5,6,4,6,7,4450,458)\n",
    "print(a)"
   ]
  },
  {
   "cell_type": "code",
   "execution_count": null,
   "metadata": {},
   "outputs": [],
   "source": []
  }
 ],
 "metadata": {
  "kernelspec": {
   "display_name": "Python 3",
   "language": "python",
   "name": "python3"
  },
  "language_info": {
   "codemirror_mode": {
    "name": "ipython",
    "version": 3
   },
   "file_extension": ".py",
   "mimetype": "text/x-python",
   "name": "python",
   "nbconvert_exporter": "python",
   "pygments_lexer": "ipython3",
   "version": "3.12.4"
  }
 },
 "nbformat": 4,
 "nbformat_minor": 2
}
