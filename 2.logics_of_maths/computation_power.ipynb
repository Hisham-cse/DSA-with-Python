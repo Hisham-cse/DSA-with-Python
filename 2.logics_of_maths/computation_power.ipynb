{
 "cells": [
  {
   "cell_type": "code",
   "execution_count": 7,
   "metadata": {},
   "outputs": [
    {
     "data": {
      "text/plain": [
       "1"
      ]
     },
     "execution_count": 7,
     "metadata": {},
     "output_type": "execute_result"
    }
   ],
   "source": [
    "def pow(x,n):\n",
    "    return x**n\n",
    "x=int(input())\n",
    "n=int(input())\n",
    "\n",
    "pow(x,n)"
   ]
  },
  {
   "cell_type": "code",
   "execution_count": 8,
   "metadata": {},
   "outputs": [
    {
     "data": {
      "text/plain": [
       "1"
      ]
     },
     "execution_count": 8,
     "metadata": {},
     "output_type": "execute_result"
    }
   ],
   "source": [
    "def pow(x,n):\n",
    "    res=1\n",
    "    for i in range(n):\n",
    "        res=res*x\n",
    "    return res\n",
    "x=int(input())\n",
    "n=int(input())\n",
    "\n",
    "pow(x,n)"
   ]
  },
  {
   "cell_type": "code",
   "execution_count": 10,
   "metadata": {},
   "outputs": [
    {
     "data": {
      "text/plain": [
       "8"
      ]
     },
     "execution_count": 10,
     "metadata": {},
     "output_type": "execute_result"
    }
   ],
   "source": [
    "def pow(x,n):\n",
    "    if n==0:\n",
    "        return 1\n",
    "    temp = pow(x,n//2)\n",
    "    temp=temp*temp\n",
    "    if(n%2==0):\n",
    "        return temp\n",
    "    else:\n",
    "        return temp*x    \n",
    "x=int(input())\n",
    "n=int(input())\n",
    "\n",
    "pow(x,n)"
   ]
  },
  {
   "cell_type": "code",
   "execution_count": null,
   "metadata": {},
   "outputs": [],
   "source": []
  }
 ],
 "metadata": {
  "kernelspec": {
   "display_name": "Python 3",
   "language": "python",
   "name": "python3"
  },
  "language_info": {
   "codemirror_mode": {
    "name": "ipython",
    "version": 3
   },
   "file_extension": ".py",
   "mimetype": "text/x-python",
   "name": "python",
   "nbconvert_exporter": "python",
   "pygments_lexer": "ipython3",
   "version": "3.12.4"
  }
 },
 "nbformat": 4,
 "nbformat_minor": 2
}
