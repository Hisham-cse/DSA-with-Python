{
 "cells": [
  {
   "cell_type": "code",
   "execution_count": 2,
   "metadata": {},
   "outputs": [
    {
     "data": {
      "text/plain": [
       "1024"
      ]
     },
     "execution_count": 2,
     "metadata": {},
     "output_type": "execute_result"
    }
   ],
   "source": [
    "def power(x,n):\n",
    "    res=1\n",
    "    while n>0:\n",
    "        if n%2!=0:\n",
    "            res=res*x\n",
    "        x=x*x\n",
    "        n=n//2\n",
    "    return res\n",
    "x=int(input())\n",
    "n=int(input())\n",
    "\n",
    "pow(x,n)"
   ]
  },
  {
   "cell_type": "code",
   "execution_count": 4,
   "metadata": {},
   "outputs": [
    {
     "data": {
      "text/plain": [
       "1024"
      ]
     },
     "execution_count": 4,
     "metadata": {},
     "output_type": "execute_result"
    }
   ],
   "source": [
    "# same \n",
    "def power(x,n):\n",
    "    res=1\n",
    "    while n>0:\n",
    "        if n&1:\n",
    "            res=res*x\n",
    "        x=x*x\n",
    "        n=n>>1\n",
    "    return res\n",
    "x=int(input())\n",
    "n=int(input())\n",
    "\n",
    "pow(x,n)"
   ]
  },
  {
   "cell_type": "code",
   "execution_count": 6,
   "metadata": {},
   "outputs": [
    {
     "data": {
      "text/plain": [
       "1024"
      ]
     },
     "execution_count": 6,
     "metadata": {},
     "output_type": "execute_result"
    }
   ],
   "source": [
    "# moduke m is given in question\n",
    "def power(x,n,m):\n",
    "    res=1\n",
    "    while n>0:\n",
    "        if n&1:\n",
    "            res=(res*x)%m\n",
    "        x=(x*x)%m\n",
    "        n=n>>1\n",
    "    return res\n",
    "x=int(input())\n",
    "n=int(input())\n",
    "m=5\n",
    "pow(x,n)"
   ]
  },
  {
   "cell_type": "code",
   "execution_count": null,
   "metadata": {},
   "outputs": [],
   "source": []
  }
 ],
 "metadata": {
  "kernelspec": {
   "display_name": "Python 3",
   "language": "python",
   "name": "python3"
  },
  "language_info": {
   "codemirror_mode": {
    "name": "ipython",
    "version": 3
   },
   "file_extension": ".py",
   "mimetype": "text/x-python",
   "name": "python",
   "nbconvert_exporter": "python",
   "pygments_lexer": "ipython3",
   "version": "3.12.4"
  }
 },
 "nbformat": 4,
 "nbformat_minor": 2
}
