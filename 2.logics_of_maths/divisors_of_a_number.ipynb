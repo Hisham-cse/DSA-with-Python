{
 "cells": [
  {
   "cell_type": "code",
   "execution_count": 7,
   "metadata": {},
   "outputs": [
    {
     "name": "stdout",
     "output_type": "stream",
     "text": [
      "1\n",
      "2\n",
      "4\n",
      "5\n",
      "10\n",
      "20\n",
      "25\n",
      "50\n",
      "100\n",
      "None\n"
     ]
    }
   ],
   "source": [
    "def divisor(n):\n",
    "    for i in range(1,n+1):\n",
    "        if n%i==0:\n",
    "            print(i)\n",
    "n=int(input())\n",
    "print(divisor(n))"
   ]
  },
  {
   "cell_type": "code",
   "execution_count": 12,
   "metadata": {},
   "outputs": [
    {
     "name": "stdout",
     "output_type": "stream",
     "text": [
      "1\n",
      "25.0\n",
      "5\n"
     ]
    }
   ],
   "source": [
    "def divisor(n):\n",
    "    i=1\n",
    "    while(i*i<=n):\n",
    "        if(n%i==0):\n",
    "            print(i)\n",
    "            if(i!=n/i):\n",
    "                print(n/i)\n",
    "        i+=1\n",
    "divisor(int(input()))"
   ]
  },
  {
   "cell_type": "code",
   "execution_count": 16,
   "metadata": {},
   "outputs": [
    {
     "name": "stdout",
     "output_type": "stream",
     "text": [
      "1\n",
      "5.0\n",
      "25.0\n"
     ]
    }
   ],
   "source": [
    "def divisor(n):\n",
    "    i=1\n",
    "    while(i*i<n):\n",
    "        if(n%i==0):\n",
    "            print(i)\n",
    "        i+=1\n",
    "    while(i>=1):\n",
    "        if(n%i==0):\n",
    "            print(n/i)\n",
    "        i-=1\n",
    "divisor(int(input()))"
   ]
  },
  {
   "cell_type": "code",
   "execution_count": 20,
   "metadata": {},
   "outputs": [
    {
     "name": "stdout",
     "output_type": "stream",
     "text": [
      "2\n",
      "5\n",
      "10\n"
     ]
    }
   ],
   "source": [
    "n=10\n",
    "for i in range(2,n+1):\n",
    "        if n%i==0:\n",
    "            print(i)"
   ]
  },
  {
   "cell_type": "code",
   "execution_count": null,
   "metadata": {},
   "outputs": [],
   "source": []
  }
 ],
 "metadata": {
  "kernelspec": {
   "display_name": "Python 3",
   "language": "python",
   "name": "python3"
  },
  "language_info": {
   "codemirror_mode": {
    "name": "ipython",
    "version": 3
   },
   "file_extension": ".py",
   "mimetype": "text/x-python",
   "name": "python",
   "nbconvert_exporter": "python",
   "pygments_lexer": "ipython3",
   "version": "3.12.4"
  }
 },
 "nbformat": 4,
 "nbformat_minor": 2
}
