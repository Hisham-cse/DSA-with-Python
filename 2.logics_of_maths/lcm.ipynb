{
 "cells": [
  {
   "cell_type": "code",
   "execution_count": 3,
   "metadata": {},
   "outputs": [
    {
     "name": "stdout",
     "output_type": "stream",
     "text": [
      "12\n"
     ]
    }
   ],
   "source": [
    "# Naive Approach for finding LCM\n",
    "def lcm(a,b):\n",
    "    res=max(a,b)\n",
    "    while True:\n",
    "        if res%a==0 and res%b==0:\n",
    "            return res\n",
    "        res+=1\n",
    "    return res\n",
    "if __name__==\"__main__\":\n",
    "    a=4\n",
    "    b=6\n",
    "    print(lcm(a,b))\n",
    "\n",
    "# O(aXb-max(a,b))   -- Time Complexity"
   ]
  },
  {
   "cell_type": "code",
   "execution_count": 3,
   "metadata": {},
   "outputs": [
    {
     "name": "stdout",
     "output_type": "stream",
     "text": [
      "12\n"
     ]
    }
   ],
   "source": [
    "def gcd(a,b):\n",
    "    if b==0:\n",
    "        return a\n",
    "    return gcd(b,a%b)\n",
    "def lcm(a,b):\n",
    "    return a*b // gcd(a,b)\n",
    "a=6\n",
    "b=4\n",
    "print(lcm(a,b))\n",
    "\n"
   ]
  }
 ],
 "metadata": {
  "kernelspec": {
   "display_name": "Python 3",
   "language": "python",
   "name": "python3"
  },
  "language_info": {
   "codemirror_mode": {
    "name": "ipython",
    "version": 3
   },
   "file_extension": ".py",
   "mimetype": "text/x-python",
   "name": "python",
   "nbconvert_exporter": "python",
   "pygments_lexer": "ipython3",
   "version": "3.12.4"
  }
 },
 "nbformat": 4,
 "nbformat_minor": 2
}
