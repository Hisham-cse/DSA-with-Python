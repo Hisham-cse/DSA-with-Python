{
 "cells": [
  {
   "cell_type": "code",
   "execution_count": 1,
   "metadata": {},
   "outputs": [
    {
     "name": "stdout",
     "output_type": "stream",
     "text": [
      "2\n",
      "3\n",
      "5\n",
      "7\n",
      "11\n",
      "13\n",
      "17\n",
      "19\n",
      "23\n"
     ]
    }
   ],
   "source": [
    "def isPrime(n):\n",
    "    if n==0 or n==1:\n",
    "        return\n",
    "    for i in range(2,n):\n",
    "        if n%i==0:\n",
    "            return\n",
    "    return n\n",
    "\n",
    "\n",
    "def sieve_prime(n):\n",
    "    for i in range(2,n+1):\n",
    "        if isPrime(i):\n",
    "            print(i)\n",
    "n=int(input())\n",
    "sieve_prime(n)\n"
   ]
  },
  {
   "cell_type": "code",
   "execution_count": 4,
   "metadata": {},
   "outputs": [
    {
     "name": "stdout",
     "output_type": "stream",
     "text": [
      "2\n",
      "3\n",
      "5\n",
      "7\n",
      "11\n",
      "13\n",
      "17\n",
      "19\n"
     ]
    }
   ],
   "source": [
    "def sieve_prime(n):\n",
    "    if n<=1:\n",
    "        return \n",
    "    isPrime=[True]*(n+1)\n",
    "    i=2\n",
    "    while i<=n:\n",
    "        if isPrime[i]:\n",
    "            print(i)\n",
    "            for j in range(i+i,n+1,i):\n",
    "                isPrime[j]=False\n",
    "        i+=1\n",
    "n=int(input())\n",
    "sieve_prime(n)\n"
   ]
  },
  {
   "cell_type": "code",
   "execution_count": 8,
   "metadata": {},
   "outputs": [
    {
     "name": "stdout",
     "output_type": "stream",
     "text": [
      "2 3 5 7 11 13 17 "
     ]
    }
   ],
   "source": [
    "def sieve(n):\n",
    "    if n <= 1:\n",
    "        return\n",
    "\n",
    "    isPrime = [True] * (n + 1)  # Create a list to track prime numbers\n",
    "    i = 2  # Start with the first prime number, which is 2\n",
    "\n",
    "    # Perform the Sieve of Eratosthenes algorithm\n",
    "    while i * i <= n:\n",
    "        if isPrime[i]:  # If i is prime\n",
    "            for j in range(i *2, n + 1, i):  # Mark all multiples of i as not prime\n",
    "                isPrime[j] = False\n",
    "        i += 1\n",
    "\n",
    "    # Print all prime numbers\n",
    "    for i in range(2, n + 1):\n",
    "        if isPrime[i]:\n",
    "            print(i, end=\" \")  # Print primes on the same line separated by a space\n",
    "\n",
    "# Main section\n",
    "if __name__ == \"__main__\":\n",
    "    n = 18\n",
    "    sieve(n)\n"
   ]
  },
  {
   "cell_type": "code",
   "execution_count": null,
   "metadata": {},
   "outputs": [],
   "source": []
  }
 ],
 "metadata": {
  "kernelspec": {
   "display_name": "Python 3",
   "language": "python",
   "name": "python3"
  },
  "language_info": {
   "codemirror_mode": {
    "name": "ipython",
    "version": 3
   },
   "file_extension": ".py",
   "mimetype": "text/x-python",
   "name": "python",
   "nbconvert_exporter": "python",
   "pygments_lexer": "ipython3",
   "version": "3.12.4"
  }
 },
 "nbformat": 4,
 "nbformat_minor": 2
}
