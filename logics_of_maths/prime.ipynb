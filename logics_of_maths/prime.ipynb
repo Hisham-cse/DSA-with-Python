{
 "cells": [
  {
   "cell_type": "code",
   "execution_count": 4,
   "metadata": {},
   "outputs": [
    {
     "name": "stdout",
     "output_type": "stream",
     "text": [
      "False\n"
     ]
    }
   ],
   "source": [
    "# Navie Approach\n",
    "def isPrime(n):\n",
    "    if n==0 or n==1:\n",
    "        return False\n",
    "    for i in range(2,n):\n",
    "        if n%i==0:\n",
    "            return False\n",
    "    return True\n",
    "n=int(input())\n",
    "print(\"true\") if isPrime(n) else print(\"False\")"
   ]
  },
  {
   "cell_type": "code",
   "execution_count": 8,
   "metadata": {},
   "outputs": [
    {
     "name": "stdout",
     "output_type": "stream",
     "text": [
      "true\n"
     ]
    }
   ],
   "source": [
    "# efficient way\n",
    "def isPrime(n):\n",
    "    if n==0 or n==1:\n",
    "        return False\n",
    "    i=2\n",
    "    while(i*i<=n):\n",
    "        if n%i==0:\n",
    "            return False\n",
    "        i+=1\n",
    "    return True\n",
    "n=int(input())\n",
    "print(\"true\") if isPrime(n) else print(\"False\")\n"
   ]
  },
  {
   "cell_type": "code",
   "execution_count": 12,
   "metadata": {},
   "outputs": [
    {
     "name": "stdout",
     "output_type": "stream",
     "text": [
      "False\n"
     ]
    }
   ],
   "source": [
    "def isPrime(n):\n",
    "    if n==0 or n==1:\n",
    "        return False\n",
    "    if n==2 or n==3:\n",
    "        return True\n",
    "    if n%2==0 or n%3==0:\n",
    "        return False\n",
    "    i=5\n",
    "    while (i*i<=n):\n",
    "        if n%i==0 or n%(i+2)==0:\n",
    "            return False\n",
    "        i+=6\n",
    "    return True\n",
    "n=int(input())\n",
    "print(\"true\") if isPrime(n) else print(\"False\")"
   ]
  },
  {
   "cell_type": "code",
   "execution_count": null,
   "metadata": {},
   "outputs": [],
   "source": []
  }
 ],
 "metadata": {
  "kernelspec": {
   "display_name": "Python 3",
   "language": "python",
   "name": "python3"
  },
  "language_info": {
   "codemirror_mode": {
    "name": "ipython",
    "version": 3
   },
   "file_extension": ".py",
   "mimetype": "text/x-python",
   "name": "python",
   "nbconvert_exporter": "python",
   "pygments_lexer": "ipython3",
   "version": "3.12.4"
  }
 },
 "nbformat": 4,
 "nbformat_minor": 2
}
