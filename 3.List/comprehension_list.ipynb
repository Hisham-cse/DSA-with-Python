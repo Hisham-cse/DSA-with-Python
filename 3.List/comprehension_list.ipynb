{
 "cells": [
  {
   "cell_type": "code",
   "execution_count": 1,
   "metadata": {},
   "outputs": [
    {
     "name": "stdout",
     "output_type": "stream",
     "text": [
      "[0, 2, 4, 6, 8, 10]\n"
     ]
    }
   ],
   "source": [
    "l1=[x for x in range(11) if x%2==0]\n",
    "print(l1)"
   ]
  },
  {
   "cell_type": "code",
   "execution_count": 3,
   "metadata": {},
   "outputs": [
    {
     "name": "stdout",
     "output_type": "stream",
     "text": [
      "[1, 3, 5, 7, 9]\n"
     ]
    }
   ],
   "source": [
    "l1=[x for x in range(11) if x%2!=0]\n",
    "print(l1)"
   ]
  },
  {
   "cell_type": "code",
   "execution_count": 5,
   "metadata": {},
   "outputs": [
    {
     "data": {
      "text/plain": [
       "[2, 5, 1]"
      ]
     },
     "execution_count": 5,
     "metadata": {},
     "output_type": "execute_result"
    }
   ],
   "source": [
    "def getSmaller(l,x):\n",
    "    return [e for e in l if e<x]\n",
    "l=[12,2,5,1,10]\n",
    "x=6\n",
    "getSmaller(l,x)"
   ]
  },
  {
   "cell_type": "code",
   "execution_count": 12,
   "metadata": {},
   "outputs": [
    {
     "data": {
      "text/plain": [
       "5"
      ]
     },
     "execution_count": 12,
     "metadata": {},
     "output_type": "execute_result"
    }
   ],
   "source": [
    "def fib(n):\n",
    "    if n==1:return 1\n",
    "    if n==0:return 0\n",
    "    n1,n2=0,1\n",
    "    count=2\n",
    "    for i in range(2,n+1):\n",
    "        sum=n1+n2\n",
    "        n1=n2\n",
    "        n2=sum\n",
    "    return sum\n",
    "n=int(input(\"Enter a number\"))\n",
    "fib(n)"
   ]
  },
  {
   "cell_type": "markdown",
   "metadata": {},
   "source": [
    "RETURNS EVEN OR ODD LISTS"
   ]
  },
  {
   "cell_type": "code",
   "execution_count": 16,
   "metadata": {},
   "outputs": [
    {
     "name": "stdout",
     "output_type": "stream",
     "text": [
      "[10, 20, 40, 2]\n",
      "[3, 5]\n"
     ]
    }
   ],
   "source": [
    "def getevenODD(n):\n",
    "    even = [x for x in n if x%2==0]\n",
    "    odd = [x for x in n if x%2!=0]\n",
    "    return even,odd\n",
    "l=[10,20,3,40,5,2]\n",
    "even,odd=getevenODD(l)\n",
    "print(even)\n",
    "print(odd)"
   ]
  },
  {
   "cell_type": "code",
   "execution_count": 17,
   "metadata": {},
   "outputs": [
    {
     "name": "stdout",
     "output_type": "stream",
     "text": [
      "['e', 'e', 'o', 'e', 'e']\n"
     ]
    }
   ],
   "source": [
    "s=\"geekforgeeks\"\n",
    "l1 = [x for x in s if x in \"aeiou\"]\n",
    "print(l1)"
   ]
  },
  {
   "cell_type": "code",
   "execution_count": 18,
   "metadata": {},
   "outputs": [
    {
     "name": "stdout",
     "output_type": "stream",
     "text": [
      "['geeks', 'gfg']\n"
     ]
    }
   ],
   "source": [
    "l2=[\"geeks\",\"ide\",\"courses\",\"gfg\"]\n",
    "l3=[x for x in l2 if x.startswith(\"g\")]\n",
    "print(l3)"
   ]
  },
  {
   "cell_type": "code",
   "execution_count": 20,
   "metadata": {},
   "outputs": [
    {
     "name": "stdout",
     "output_type": "stream",
     "text": [
      "[0, 2, 4, 6, 8, 10]\n"
     ]
    }
   ],
   "source": [
    "l4 = [x*2 for x in range(6)]\n",
    "print(l4)"
   ]
  },
  {
   "cell_type": "code",
   "execution_count": 3,
   "metadata": {},
   "outputs": [
    {
     "data": {
      "text/plain": [
       "['GEEKS', 'GEEKS', 'GFG']"
      ]
     },
     "execution_count": 3,
     "metadata": {},
     "output_type": "execute_result"
    }
   ],
   "source": [
    "l1 = [\"geeks\",\"for\",\"geeks\",\"gfg\",\"ide\"]\n",
    "l2 = [x.upper() for x in l1 if x.startswith(\"g\")]\n",
    "l2"
   ]
  },
  {
   "cell_type": "code",
   "execution_count": 10,
   "metadata": {},
   "outputs": [
    {
     "name": "stdout",
     "output_type": "stream",
     "text": [
      "[10, 20, 4, 10, 20]\n",
      "[3, 7, 3]\n"
     ]
    }
   ],
   "source": [
    "l = [10,20,3,4,10,20,7,3]\n",
    "s1 = [x for x in l if x%2==0 ]\n",
    "s2 = [x for x in l if x%2!=0 ]\n",
    "print(s1)\n",
    "print(s2)"
   ]
  },
  {
   "cell_type": "code",
   "execution_count": 11,
   "metadata": {},
   "outputs": [
    {
     "name": "stdout",
     "output_type": "stream",
     "text": [
      "{10, 20, 4}\n",
      "{3, 7}\n"
     ]
    }
   ],
   "source": [
    "# Set Comprehension\n",
    "l = [10,20,3,4,10,20,7,3]\n",
    "s1 = {x for x in l if x%2==0 }\n",
    "s2 = {x for x in l if x%2!=0 }\n",
    "print(s1)\n",
    "print(s2)"
   ]
  },
  {
   "cell_type": "code",
   "execution_count": 13,
   "metadata": {},
   "outputs": [
    {
     "name": "stdout",
     "output_type": "stream",
     "text": [
      "{1: 1, 3: 27, 4: 64, 2: 8, 5: 125}\n"
     ]
    }
   ],
   "source": [
    "# Dictionary Comprehension\n",
    "l1= [1,3,4,2,5]\n",
    "d1={x:x**3 for x in l1}\n",
    "print(d1)\n"
   ]
  },
  {
   "cell_type": "code",
   "execution_count": 17,
   "metadata": {},
   "outputs": [
    {
     "name": "stdout",
     "output_type": "stream",
     "text": [
      "{0: 'ID[0]', 1: 'ID[1]', 2: 'ID[2]', 3: 'ID[3]', 4: 'ID[4]'}\n"
     ]
    }
   ],
   "source": [
    "d2={ x:f\"ID[{x}]\" for x in range(5)}\n",
    "print(d2)"
   ]
  },
  {
   "cell_type": "code",
   "execution_count": 20,
   "metadata": {},
   "outputs": [
    {
     "data": {
      "text/plain": [
       "{101: 'gfg', 103: 'ide', 102: 'courses'}"
      ]
     },
     "execution_count": 20,
     "metadata": {},
     "output_type": "execute_result"
    }
   ],
   "source": [
    "l2 = [101,103,102]\n",
    "l3 = [\"gfg\",\"ide\",\"courses\"]\n",
    "d3 = {l2[i]:l3[i] for i in range(len(l2))}\n",
    "d3"
   ]
  },
  {
   "cell_type": "code",
   "execution_count": 23,
   "metadata": {},
   "outputs": [
    {
     "data": {
      "text/plain": [
       "{101: 'gfg', 103: 'ide', 102: 'courses'}"
      ]
     },
     "execution_count": 23,
     "metadata": {},
     "output_type": "execute_result"
    }
   ],
   "source": [
    "# BEtter way\n",
    "d3=dict(zip(l2,l3))\n",
    "d3"
   ]
  },
  {
   "cell_type": "code",
   "execution_count": 26,
   "metadata": {},
   "outputs": [
    {
     "data": {
      "text/plain": [
       "{'gfg': 101, 'practice': 103, 'ide': 102}"
      ]
     },
     "execution_count": 26,
     "metadata": {},
     "output_type": "execute_result"
    }
   ],
   "source": [
    "# Reversing or Inverting a Dictionary (key Becomes value)\n",
    "# and value becomes key\n",
    "d1 = {101:\"gfg\",103:\"practice\",102:\"ide\"}\n",
    "d2 = {v:k for (k,v) in d1.items()}\n",
    "d2"
   ]
  },
  {
   "cell_type": "code",
   "execution_count": null,
   "metadata": {},
   "outputs": [],
   "source": []
  }
 ],
 "metadata": {
  "kernelspec": {
   "display_name": "Python 3",
   "language": "python",
   "name": "python3"
  },
  "language_info": {
   "codemirror_mode": {
    "name": "ipython",
    "version": 3
   },
   "file_extension": ".py",
   "mimetype": "text/x-python",
   "name": "python",
   "nbconvert_exporter": "python",
   "pygments_lexer": "ipython3",
   "version": "3.12.4"
  }
 },
 "nbformat": 4,
 "nbformat_minor": 2
}
