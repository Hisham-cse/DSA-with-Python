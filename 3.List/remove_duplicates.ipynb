{
 "cells": [
  {
   "cell_type": "code",
   "execution_count": 11,
   "metadata": {},
   "outputs": [
    {
     "name": "stdout",
     "output_type": "stream",
     "text": [
      "3 [1, 2, 3, 3, 3, 3]\n"
     ]
    }
   ],
   "source": [
    "def removedup(arr,n):\n",
    "    temp=[0]*n\n",
    "    temp[0]=arr[0]\n",
    "    res=1\n",
    "    for i in range(1,n):\n",
    "        if temp[res-1]!=arr[i]:\n",
    "            temp[res]=arr[i]\n",
    "            res+=1\n",
    "    for i in range(0,res):\n",
    "        arr[i]=temp[i]\n",
    "    return res,arr\n",
    "a,b=removedup([1,2,2,3,3,3],6)\n",
    "print(a,b)\n",
    "# Auxilary space=o(n) ,time: O(n)"
   ]
  },
  {
   "cell_type": "code",
   "execution_count": 14,
   "metadata": {},
   "outputs": [
    {
     "data": {
      "text/plain": [
       "3"
      ]
     },
     "execution_count": 14,
     "metadata": {},
     "output_type": "execute_result"
    }
   ],
   "source": [
    "def removedup(arr,n):\n",
    "    res=1\n",
    "    for i in range(1,n):\n",
    "        if(arr[res-1]!=arr[i]):\n",
    "            arr[res]=arr[i]\n",
    "            res+=1\n",
    "    return res\n",
    "removedup([1,2,2,3,3,3,3],6)\n",
    "# Auxilary space=O(1)"
   ]
  },
  {
   "cell_type": "code",
   "execution_count": null,
   "metadata": {},
   "outputs": [],
   "source": []
  }
 ],
 "metadata": {
  "kernelspec": {
   "display_name": "Python 3",
   "language": "python",
   "name": "python3"
  },
  "language_info": {
   "codemirror_mode": {
    "name": "ipython",
    "version": 3
   },
   "file_extension": ".py",
   "mimetype": "text/x-python",
   "name": "python",
   "nbconvert_exporter": "python",
   "pygments_lexer": "ipython3",
   "version": "3.12.4"
  }
 },
 "nbformat": 4,
 "nbformat_minor": 2
}
