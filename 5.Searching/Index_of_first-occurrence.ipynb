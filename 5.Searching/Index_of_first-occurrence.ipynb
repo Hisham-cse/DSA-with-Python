{
 "cells": [
  {
   "cell_type": "code",
   "execution_count": 4,
   "metadata": {},
   "outputs": [
    {
     "data": {
      "text/plain": [
       "-1"
      ]
     },
     "execution_count": 4,
     "metadata": {},
     "output_type": "execute_result"
    }
   ],
   "source": [
    "def index(l,x):\n",
    "    low=0\n",
    "    high=len(l)-1\n",
    "    result=-1\n",
    "    while low<high:\n",
    "        mid=(low+high)//2\n",
    "        if l[mid]==x:\n",
    "            result=mid\n",
    "            low=mid+1\n",
    "        elif l[mid]<x:\n",
    "            low=mid+1\n",
    "        else:\n",
    "            high=mid-1\n",
    "    return result\n",
    "index([1,2,3,3,4,5],3.1)\n",
    "\n"
   ]
  },
  {
   "cell_type": "code",
   "execution_count": 10,
   "metadata": {},
   "outputs": [
    {
     "data": {
      "text/plain": [
       "4"
      ]
     },
     "execution_count": 10,
     "metadata": {},
     "output_type": "execute_result"
    }
   ],
   "source": [
    "# Naive Approach\n",
    "def first_occurence(arr,n,x):\n",
    "    for i in range(0,n):\n",
    "        if(arr[i]==x):\n",
    "            return i\n",
    "    return -1\n",
    "l=[1,2,3,4,5,5]\n",
    "first_occurence(l,len(l),5)\n",
    "\n",
    "# time: O(n)\n",
    "# Aux Space: O(1)"
   ]
  },
  {
   "cell_type": "code",
   "execution_count": 16,
   "metadata": {},
   "outputs": [
    {
     "data": {
      "text/plain": [
       "2"
      ]
     },
     "execution_count": 16,
     "metadata": {},
     "output_type": "execute_result"
    }
   ],
   "source": [
    "# Recursive Method\n",
    "def firstOccurence(arr,low,high,n):\n",
    "    if low>high:return -1\n",
    "    mid=(low+high)//2\n",
    "    if n>arr[mid]:\n",
    "        return firstOccurence(arr,mid+1,high,n)\n",
    "    elif n<arr[mid]:\n",
    "        return firstOccurence(arr,low,mid-1,n)\n",
    "    else:\n",
    "        if mid==0 or arr[mid-1]!=arr[mid]:\n",
    "            return mid\n",
    "        else:\n",
    "            return firstOccurence(arr,low,mid-1,n)\n",
    "firstOccurence([1,2,3,3,4,5],0,5,3)\n"
   ]
  },
  {
   "cell_type": "code",
   "execution_count": 20,
   "metadata": {},
   "outputs": [
    {
     "name": "stdout",
     "output_type": "stream",
     "text": [
      "1\n"
     ]
    },
    {
     "data": {
      "text/plain": [
       "3"
      ]
     },
     "execution_count": 20,
     "metadata": {},
     "output_type": "execute_result"
    }
   ],
   "source": [
    "# Iterative Method\n",
    "def firstOccurence(arr,n,x):\n",
    "    low=0\n",
    "    high=n-1\n",
    "    while low<=high:\n",
    "        mid=(low+high)//2\n",
    "        if x>arr[mid]:\n",
    "            low=mid+1\n",
    "        elif x<arr[mid]:\n",
    "            high=mid-1\n",
    "        else:\n",
    "            if mid==0 or arr[mid-1]!=arr[mid]:\n",
    "                return mid\n",
    "            else:\n",
    "                high = mid-1\n",
    "    return -1\n",
    "print(firstOccurence([1,2,2,3,4],5,2))\n",
    "firstOccurence([1,2,2,3,4],5,3)\n",
    "# time: O(log n)\n",
    "#Aux Space : O(1)"
   ]
  }
 ],
 "metadata": {
  "kernelspec": {
   "display_name": "Python 3",
   "language": "python",
   "name": "python3"
  },
  "language_info": {
   "codemirror_mode": {
    "name": "ipython",
    "version": 3
   },
   "file_extension": ".py",
   "mimetype": "text/x-python",
   "name": "python",
   "nbconvert_exporter": "python",
   "pygments_lexer": "ipython3",
   "version": "3.12.4"
  }
 },
 "nbformat": 4,
 "nbformat_minor": 2
}
