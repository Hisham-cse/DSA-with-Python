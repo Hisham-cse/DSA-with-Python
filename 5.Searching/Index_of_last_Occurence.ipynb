{
 "cells": [
  {
   "cell_type": "code",
   "execution_count": 2,
   "metadata": {},
   "outputs": [
    {
     "data": {
      "text/plain": [
       "2"
      ]
     },
     "execution_count": 2,
     "metadata": {},
     "output_type": "execute_result"
    }
   ],
   "source": [
    "# Naive Solution\n",
    "def lastOccurence(arr,x):\n",
    "    for i in reversed(range(len(arr))):\n",
    "        if arr[i]==x:\n",
    "            return i\n",
    "    return -1\n",
    "lastOccurence([1,2,2,3,4,5],2)\n",
    "# Time:O(n)"
   ]
  },
  {
   "cell_type": "code",
   "execution_count": 14,
   "metadata": {},
   "outputs": [
    {
     "data": {
      "text/plain": [
       "5"
      ]
     },
     "execution_count": 14,
     "metadata": {},
     "output_type": "execute_result"
    }
   ],
   "source": [
    "# Efficient Solution\n",
    "def last_Occurence(arr,x):\n",
    "    low=0\n",
    "    high=len(arr)-1\n",
    "    while low<=high:\n",
    "        mid=(low+high)//2\n",
    "        if x<arr[mid]:\n",
    "            high = mid-1\n",
    "        elif x>arr[mid]:\n",
    "            low = mid+1\n",
    "        else:\n",
    "            if mid==len(arr)-1 or arr[mid+1]!=arr[mid]:\n",
    "                return mid\n",
    "            else:\n",
    "                low = mid+1\n",
    "    return -1\n",
    "last_Occurence([1,2,2,2,3,3,4,5,5],3)\n",
    "# Time:O(log n)\n",
    "# Aux Space: O(1)"
   ]
  },
  {
   "cell_type": "code",
   "execution_count": null,
   "metadata": {},
   "outputs": [],
   "source": []
  }
 ],
 "metadata": {
  "kernelspec": {
   "display_name": "Python 3",
   "language": "python",
   "name": "python3"
  },
  "language_info": {
   "codemirror_mode": {
    "name": "ipython",
    "version": 3
   },
   "file_extension": ".py",
   "mimetype": "text/x-python",
   "name": "python",
   "nbconvert_exporter": "python",
   "pygments_lexer": "ipython3",
   "version": "3.12.4"
  }
 },
 "nbformat": 4,
 "nbformat_minor": 2
}
