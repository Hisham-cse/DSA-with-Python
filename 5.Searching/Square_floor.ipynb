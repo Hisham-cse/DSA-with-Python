{
 "cells": [
  {
   "cell_type": "code",
   "execution_count": 7,
   "metadata": {},
   "outputs": [
    {
     "data": {
      "text/plain": [
       "17"
      ]
     },
     "execution_count": 7,
     "metadata": {},
     "output_type": "execute_result"
    }
   ],
   "source": [
    "def squareFloor(x):\n",
    "    i=1\n",
    "    while i*i<=x:\n",
    "        i+=1\n",
    "    return i-1\n",
    "squareFloor(102)"
   ]
  },
  {
   "cell_type": "code",
   "execution_count": 11,
   "metadata": {},
   "outputs": [
    {
     "data": {
      "text/plain": [
       "100"
      ]
     },
     "execution_count": 11,
     "metadata": {},
     "output_type": "execute_result"
    }
   ],
   "source": [
    "def SqFloor(x):\n",
    "    low=1\n",
    "    high=x\n",
    "    ans=-1\n",
    "    while low<=high:\n",
    "        mid=(low+high)//2\n",
    "        msq = mid * mid\n",
    "        if msq==x:\n",
    "            return mid\n",
    "        elif msq>x:\n",
    "            high=mid-1\n",
    "        else:\n",
    "            low=mid+1\n",
    "            ans=mid\n",
    "    return ans\n",
    "SqFloor(10000)\n"
   ]
  },
  {
   "cell_type": "code",
   "execution_count": null,
   "metadata": {},
   "outputs": [],
   "source": []
  }
 ],
 "metadata": {
  "kernelspec": {
   "display_name": "Python 3",
   "language": "python",
   "name": "python3"
  },
  "language_info": {
   "codemirror_mode": {
    "name": "ipython",
    "version": 3
   },
   "file_extension": ".py",
   "mimetype": "text/x-python",
   "name": "python",
   "nbconvert_exporter": "python",
   "pygments_lexer": "ipython3",
   "version": "3.12.4"
  }
 },
 "nbformat": 4,
 "nbformat_minor": 2
}
