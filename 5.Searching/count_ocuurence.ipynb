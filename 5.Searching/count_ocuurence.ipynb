{
 "cells": [
  {
   "cell_type": "code",
   "execution_count": 7,
   "metadata": {},
   "outputs": [
    {
     "data": {
      "text/plain": [
       "2"
      ]
     },
     "execution_count": 7,
     "metadata": {},
     "output_type": "execute_result"
    }
   ],
   "source": [
    "def count_occurences(arr,x):\n",
    "    \n",
    "    firs = first(arr,x)\n",
    "    if firs==-1:\n",
    "        return 0\n",
    "    else:\n",
    "        return last(arr,x) - firs +1\n",
    "def first(arr,x):\n",
    "    n=len(arr)\n",
    "    low=0\n",
    "    high=n-1\n",
    "    while low<=high:\n",
    "        mid=(low+high)//2\n",
    "        if x<arr[mid]:\n",
    "            high= mid-1\n",
    "        elif x>arr[mid]:\n",
    "            low=mid+1\n",
    "        else:\n",
    "            if mid==0 or arr[mid-1]!=arr[mid]:\n",
    "                return mid\n",
    "            else:\n",
    "                mid=high-1\n",
    "    return -1\n",
    "def last(arr,x):\n",
    "    n=len(arr)\n",
    "    low=0\n",
    "    high=n-1\n",
    "    while low<=high:\n",
    "        mid=(low+high)//2\n",
    "        if x<arr[mid]:\n",
    "            high = mid-1\n",
    "        elif x>arr[mid]:\n",
    "            low = mid+1\n",
    "        else:\n",
    "            if mid==len(arr)-1 or arr[mid+1]!=arr[mid]:\n",
    "                return mid\n",
    "            else:\n",
    "                low = mid+1\n",
    "    return -1\n",
    "\n",
    "            \n",
    "count_occurences([1,2,2,2,3,3,4,5,5],3)"
   ]
  },
  {
   "cell_type": "code",
   "execution_count": 10,
   "metadata": {},
   "outputs": [
    {
     "name": "stdout",
     "output_type": "stream",
     "text": [
      "1\n"
     ]
    }
   ],
   "source": [
    "def count_occurences(arr, x):\n",
    "    first_index = first(arr, x)\n",
    "    if first_index == -1:\n",
    "        return 0\n",
    "    else:\n",
    "        return last(arr, x) - first_index + 1\n",
    "\n",
    "def first(arr, x):\n",
    "    n = len(arr)\n",
    "    low = 0\n",
    "    high = n - 1\n",
    "    while low <= high:\n",
    "        mid = (low + high) // 2\n",
    "        if x < arr[mid]:\n",
    "            high = mid - 1\n",
    "        elif x > arr[mid]:\n",
    "            low = mid + 1\n",
    "        else:\n",
    "            if mid == 0 or arr[mid - 1] != arr[mid]:\n",
    "                return mid\n",
    "            else:\n",
    "                high = mid - 1\n",
    "    return -1\n",
    "\n",
    "def last(arr, x):\n",
    "    n = len(arr)\n",
    "    low = 0\n",
    "    high = n - 1\n",
    "    while low <= high:\n",
    "        mid = (low + high) // 2\n",
    "        if x < arr[mid]:\n",
    "            high = mid - 1\n",
    "        elif x > arr[mid]:\n",
    "            low = mid + 1\n",
    "        else:\n",
    "            if mid == n - 1 or arr[mid + 1] != arr[mid]:\n",
    "                return mid\n",
    "            else:\n",
    "                low = mid + 1\n",
    "    return -1\n",
    "\n",
    "# Test the function\n",
    "print(count_occurences([1, 2, 2, 2, 3, 3, 4, 5, 5], 1))\n"
   ]
  },
  {
   "cell_type": "code",
   "execution_count": null,
   "metadata": {},
   "outputs": [],
   "source": []
  }
 ],
 "metadata": {
  "kernelspec": {
   "display_name": "Python 3",
   "language": "python",
   "name": "python3"
  },
  "language_info": {
   "codemirror_mode": {
    "name": "ipython",
    "version": 3
   },
   "file_extension": ".py",
   "mimetype": "text/x-python",
   "name": "python",
   "nbconvert_exporter": "python",
   "pygments_lexer": "ipython3",
   "version": "3.12.4"
  }
 },
 "nbformat": 4,
 "nbformat_minor": 2
}
