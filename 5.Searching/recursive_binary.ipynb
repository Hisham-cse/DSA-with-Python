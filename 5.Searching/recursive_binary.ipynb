{
 "cells": [
  {
   "cell_type": "code",
   "execution_count": 14,
   "metadata": {},
   "outputs": [
    {
     "name": "stdout",
     "output_type": "stream",
     "text": [
      "0\n"
     ]
    }
   ],
   "source": [
    "def leftmost_index(arr, N, X):\n",
    "    low, high = 0, N - 1\n",
    "    result = -1  # Initialize result to -1 in case X is not found\n",
    "\n",
    "    while low <= high:\n",
    "        mid = (low + high) // 2\n",
    "        \n",
    "        if arr[mid] == X:\n",
    "            result = mid  # Update result with the current index\n",
    "            high = mid - 1  # Move left to find the first occurrence\n",
    "        elif arr[mid] > X:\n",
    "            high = mid - 1  # X is in the left half\n",
    "        else:\n",
    "            low = mid + 1  # X is in the right half\n",
    "    \n",
    "    return result\n",
    "\n",
    "# Input\n",
    "N = 10\n",
    "arr = [1, 1, 2, 2, 3, 4, 5, 5, 6, 7]\n",
    "X = 1\n",
    "\n",
    "# Function call\n",
    "print(leftmost_index(arr, N, X))\n",
    "\n",
    "# time: log(n)\n",
    "# auxilary space: log(n)"
   ]
  },
  {
   "cell_type": "code",
   "execution_count": null,
   "metadata": {},
   "outputs": [],
   "source": []
  },
  {
   "cell_type": "code",
   "execution_count": 11,
   "metadata": {},
   "outputs": [
    {
     "data": {
      "text/plain": [
       "112"
      ]
     },
     "execution_count": 11,
     "metadata": {},
     "output_type": "execute_result"
    }
   ],
   "source": [
    "112"
   ]
  },
  {
   "cell_type": "code",
   "execution_count": null,
   "metadata": {},
   "outputs": [],
   "source": []
  }
 ],
 "metadata": {
  "kernelspec": {
   "display_name": "Python 3",
   "language": "python",
   "name": "python3"
  },
  "language_info": {
   "codemirror_mode": {
    "name": "ipython",
    "version": 3
   },
   "file_extension": ".py",
   "mimetype": "text/x-python",
   "name": "python",
   "nbconvert_exporter": "python",
   "pygments_lexer": "ipython3",
   "version": "3.12.4"
  }
 },
 "nbformat": 4,
 "nbformat_minor": 2
}
