{
 "cells": [
  {
   "cell_type": "code",
   "execution_count": 9,
   "metadata": {},
   "outputs": [
    {
     "name": "stdout",
     "output_type": "stream",
     "text": [
      "[10, 10, 20, 20, 30]  True\n"
     ]
    }
   ],
   "source": [
    "# Method 2\n",
    "def if_soretd(lst):\n",
    "    sorted_list=sorted(lst)\n",
    "    if sorted_list==lst:\n",
    "        print( sorted_list,\" True\")\n",
    "    else: \n",
    "        print(sorted_list, \" False\")\n",
    "lst=[10,10,20,20,30]\n",
    "if_soretd(lst)\n"
   ]
  },
  {
   "cell_type": "code",
   "execution_count": 18,
   "metadata": {},
   "outputs": [
    {
     "name": "stdout",
     "output_type": "stream",
     "text": [
      "[10, 10, 20, 20, 30] True - List was already sorted.\n"
     ]
    },
    {
     "data": {
      "text/plain": [
       "True"
      ]
     },
     "execution_count": 18,
     "metadata": {},
     "output_type": "execute_result"
    }
   ],
   "source": [
    "def if_sorted(lst):\n",
    "    # Step 1: Create a copy of the list to avoid modifying the original\n",
    "    original_list = lst[:]\n",
    "    \n",
    "    # Step 2: Sort the list using bubble sort\n",
    "    n = len(lst)\n",
    "    for i in range(n):\n",
    "        for j in range(0, n-i-1):\n",
    "            if lst[j] > lst[j+1]:\n",
    "                # Swap elements if they are in the wrong order\n",
    "                lst[j], lst[j+1] = lst[j+1], lst[j]\n",
    "    \n",
    "    # Step 3: Compare the sorted list with the original list\n",
    "    for i in range(n):\n",
    "        if original_list[i] != lst[i]:\n",
    "            print(lst, \"False - List was not sorted initially.\")\n",
    "            return False\n",
    "    print(lst, \"True - List was already sorted.\")\n",
    "    return True\n",
    "\n",
    "lst = [10, 10, 20, 20, 30]\n",
    "if_sorted(lst)\n"
   ]
  },
  {
   "cell_type": "code",
   "execution_count": 13,
   "metadata": {},
   "outputs": [
    {
     "name": "stdout",
     "output_type": "stream",
     "text": [
      "1 0\n"
     ]
    }
   ],
   "source": [
    "i=0\n",
    "j=1\n",
    "i,j=j,i\n",
    "print(i,j)"
   ]
  },
  {
   "cell_type": "code",
   "execution_count": 20,
   "metadata": {},
   "outputs": [
    {
     "data": {
      "text/plain": [
       "True"
      ]
     },
     "execution_count": 20,
     "metadata": {},
     "output_type": "execute_result"
    }
   ],
   "source": [
    "# USing while loop, Method 1\n",
    "def isSorted(l):\n",
    "    i=1\n",
    "    while i<len(l):\n",
    "        if l[i]<l[i-1]:\n",
    "            return False\n",
    "        i=i+1\n",
    "    return True\n",
    "lst = [10, 10, 20, 20, 30]\n",
    "isSorted(lst)"
   ]
  },
  {
   "cell_type": "code",
   "execution_count": null,
   "metadata": {},
   "outputs": [],
   "source": []
  }
 ],
 "metadata": {
  "kernelspec": {
   "display_name": "Python 3",
   "language": "python",
   "name": "python3"
  },
  "language_info": {
   "codemirror_mode": {
    "name": "ipython",
    "version": 3
   },
   "file_extension": ".py",
   "mimetype": "text/x-python",
   "name": "python",
   "nbconvert_exporter": "python",
   "pygments_lexer": "ipython3",
   "version": "3.12.4"
  }
 },
 "nbformat": 4,
 "nbformat_minor": 2
}
