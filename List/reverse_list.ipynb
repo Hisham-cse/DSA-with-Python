{
 "cells": [
  {
   "cell_type": "code",
   "execution_count": 2,
   "metadata": {},
   "outputs": [
    {
     "name": "stdout",
     "output_type": "stream",
     "text": [
      "[30, 20, 10]\n"
     ]
    }
   ],
   "source": [
    "# Reverese the list in the same list\n",
    "l=[10,20,30]\n",
    "l.reverse()\n",
    "print(l)"
   ]
  },
  {
   "cell_type": "code",
   "execution_count": 3,
   "metadata": {},
   "outputs": [
    {
     "name": "stdout",
     "output_type": "stream",
     "text": [
      "[30, 20, 10]\n"
     ]
    }
   ],
   "source": [
    "# returns a new reversed list\n",
    "l=[10,20,30]\n",
    "new_l=list(reversed(l))\n",
    "print(new_l)"
   ]
  },
  {
   "cell_type": "code",
   "execution_count": 4,
   "metadata": {},
   "outputs": [
    {
     "name": "stdout",
     "output_type": "stream",
     "text": [
      "[30, 20, 10]\n"
     ]
    }
   ],
   "source": [
    "l=[10,20,30]\n",
    "new_l=l[::-1]\n",
    "print(new_l)"
   ]
  },
  {
   "cell_type": "code",
   "execution_count": 14,
   "metadata": {},
   "outputs": [
    {
     "data": {
      "text/plain": [
       "[30, 20, 10]"
      ]
     },
     "execution_count": 14,
     "metadata": {},
     "output_type": "execute_result"
    }
   ],
   "source": [
    "def reverselist(l):\n",
    "    s=0\n",
    "    e=len(l)-1\n",
    "    while e>s:\n",
    "        l[e],l[s]=l[s],l[e]\n",
    "        s+=1\n",
    "        e-=1\n",
    "    \n",
    "l=[10,20,30]\n",
    "reverselist(l)\n",
    "l\n"
   ]
  },
  {
   "cell_type": "code",
   "execution_count": 10,
   "metadata": {},
   "outputs": [
    {
     "name": "stdout",
     "output_type": "stream",
     "text": [
      "Reversed list: [30, 20, 10]\n"
     ]
    }
   ],
   "source": [
    "def reverseList(l):\n",
    "    s = 0\n",
    "    e = len(l) - 1\n",
    "\n",
    "    while s < e:\n",
    "        l[s], l[e] = l[e], l[s]  # swapping left element to right and right element to left\n",
    "        s = s + 1\n",
    "        e = e - 1\n",
    "\n",
    "# Direct input from the user\n",
    "# user_input = \"12 3 4\"  # Example input with spaces\n",
    "# l = [int(x) for x in user_input.split()]  # convert input string into a list of integers\n",
    "l=[10,20,30]\n",
    "reverseList(l)\n",
    "print(\"Reversed list:\", l) "
   ]
  },
  {
   "cell_type": "code",
   "execution_count": null,
   "metadata": {},
   "outputs": [],
   "source": []
  }
 ],
 "metadata": {
  "kernelspec": {
   "display_name": "Python 3",
   "language": "python",
   "name": "python3"
  },
  "language_info": {
   "codemirror_mode": {
    "name": "ipython",
    "version": 3
   },
   "file_extension": ".py",
   "mimetype": "text/x-python",
   "name": "python",
   "nbconvert_exporter": "python",
   "pygments_lexer": "ipython3",
   "version": "3.12.4"
  }
 },
 "nbformat": 4,
 "nbformat_minor": 2
}
