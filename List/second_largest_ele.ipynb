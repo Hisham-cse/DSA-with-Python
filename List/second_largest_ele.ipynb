{
 "cells": [
  {
   "cell_type": "code",
   "execution_count": 15,
   "metadata": {},
   "outputs": [
    {
     "name": "stdout",
     "output_type": "stream",
     "text": [
      "None\n",
      "11\n"
     ]
    }
   ],
   "source": [
    "# Naive approach\n",
    "def second_ele(l):\n",
    "    if len(l)<=1:\n",
    "        return None\n",
    "    lar=getmax(l)\n",
    "    slar=None\n",
    "    for x in l:\n",
    "        if x!=lar:\n",
    "            if slar==None:\n",
    "                slar=x\n",
    "            else:\n",
    "                slar=max(slar,x)\n",
    "    return slar\n",
    "def getmax(l):\n",
    "    res = l[0]\n",
    "    for i in range(1,len(l)):\n",
    "        res=max(res,l[i])\n",
    "    return res\n",
    "print(second_ele([10,10]))\n",
    "print(second_ele([10,10,11,12,7]))\n",
    "\n",
    "# Time theta(n) it takes two traversal of list"
   ]
  },
  {
   "cell_type": "code",
   "execution_count": 17,
   "metadata": {},
   "outputs": [
    {
     "name": "stdout",
     "output_type": "stream",
     "text": [
      "43\n",
      "43\n"
     ]
    }
   ],
   "source": [
    "#It takes only one traversal of list\n",
    "def getSecMax(l):\n",
    "    if len(l)<=1:\n",
    "        return None\n",
    "    lar=l[0]\n",
    "    slar=None\n",
    "    for x in l[1:]:\n",
    "        if x>lar:\n",
    "            slar=lar\n",
    "            lar=x\n",
    "        elif x!=lar:\n",
    "            if slar==None or slar<x:\n",
    "                slar=x\n",
    "    return slar\n",
    "print(getSecMax([3,4,56,43,43]))\n",
    "print(getSecMax([3,4,56,43,43,56]))\n"
   ]
  },
  {
   "cell_type": "code",
   "execution_count": null,
   "metadata": {},
   "outputs": [],
   "source": []
  }
 ],
 "metadata": {
  "kernelspec": {
   "display_name": "Python 3",
   "language": "python",
   "name": "python3"
  },
  "language_info": {
   "codemirror_mode": {
    "name": "ipython",
    "version": 3
   },
   "file_extension": ".py",
   "mimetype": "text/x-python",
   "name": "python",
   "nbconvert_exporter": "python",
   "pygments_lexer": "ipython3",
   "version": "3.12.4"
  }
 },
 "nbformat": 4,
 "nbformat_minor": 2
}
